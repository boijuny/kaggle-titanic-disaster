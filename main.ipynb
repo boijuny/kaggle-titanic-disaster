{
 "cells": [
  {
   "cell_type": "code",
   "execution_count": 1,
   "id": "5b3ac88b",
   "metadata": {
    "_cell_guid": "b1076dfc-b9ad-4769-8c92-a6c4dae69d19",
    "_uuid": "8f2839f25d086af736a60e9eeb907d3b93b6e0e5",
    "execution": {
     "iopub.execute_input": "2024-07-04T19:36:29.711308Z",
     "iopub.status.busy": "2024-07-04T19:36:29.710855Z",
     "iopub.status.idle": "2024-07-04T19:36:30.707322Z",
     "shell.execute_reply": "2024-07-04T19:36:30.705894Z"
    },
    "papermill": {
     "duration": 1.002942,
     "end_time": "2024-07-04T19:36:30.709744",
     "exception": false,
     "start_time": "2024-07-04T19:36:29.706802",
     "status": "completed"
    },
    "tags": []
   },
   "outputs": [
    {
     "name": "stdout",
     "output_type": "stream",
     "text": [
      "/kaggle/input/titanic/train.csv\n",
      "/kaggle/input/titanic/test.csv\n",
      "/kaggle/input/titanic/gender_submission.csv\n"
     ]
    }
   ],
   "source": [
    "# This Python 3 environment comes with many helpful analytics libraries installed\n",
    "# It is defined by the kaggle/python Docker image: https://github.com/kaggle/docker-python\n",
    "# For example, here's several helpful packages to load\n",
    "\n",
    "import numpy as np # linear algebra\n",
    "import pandas as pd # data processing, CSV file I/O (e.g. pd.read_csv)\n",
    "\n",
    "# Input data files are available in the read-only \"../input/\" directory\n",
    "# For example, running this (by clicking run or pressing Shift+Enter) will list all files under the input directory\n",
    "\n",
    "import os\n",
    "for dirname, _, filenames in os.walk('/kaggle/input'):\n",
    "    for filename in filenames:\n",
    "        print(os.path.join(dirname, filename))"
   ]
  },
  {
   "cell_type": "code",
   "execution_count": 2,
   "id": "0642b607",
   "metadata": {
    "execution": {
     "iopub.execute_input": "2024-07-04T19:36:30.715848Z",
     "iopub.status.busy": "2024-07-04T19:36:30.715327Z",
     "iopub.status.idle": "2024-07-04T19:36:32.974155Z",
     "shell.execute_reply": "2024-07-04T19:36:32.972926Z"
    },
    "papermill": {
     "duration": 2.264958,
     "end_time": "2024-07-04T19:36:32.976869",
     "exception": false,
     "start_time": "2024-07-04T19:36:30.711911",
     "status": "completed"
    },
    "tags": []
   },
   "outputs": [
    {
     "name": "stdout",
     "output_type": "stream",
     "text": [
      "Validation Accuracy: 0.8044692737430168\n"
     ]
    }
   ],
   "source": [
    "import pandas as pd\n",
    "from sklearn.model_selection import train_test_split\n",
    "from sklearn.ensemble import RandomForestClassifier\n",
    "from sklearn.metrics import accuracy_score\n",
    "\n",
    "# Load the data\n",
    "train_data = pd.read_csv('/kaggle/input/titanic/train.csv')\n",
    "test_data = pd.read_csv('/kaggle/input/titanic/test.csv')\n",
    "\n",
    "# Keep PassengerId for the final submission\n",
    "test_passenger_ids = test_data['PassengerId']\n",
    "\n",
    "# Handle missing values for the training data\n",
    "train_data['Age'] = train_data['Age'].fillna(train_data['Age'].median())\n",
    "train_data['Embarked'] = train_data['Embarked'].fillna(train_data['Embarked'].mode()[0])\n",
    "\n",
    "# Drop the 'Cabin' column as it has too many missing values\n",
    "train_data = train_data.drop(columns=['Cabin'])\n",
    "\n",
    "# Convert categorical variables into numeric ones\n",
    "train_data = pd.get_dummies(train_data, columns=['Sex', 'Embarked'])\n",
    "\n",
    "# Feature selection\n",
    "features = ['Pclass', 'Age', 'SibSp', 'Parch', 'Fare', 'Sex_female', 'Sex_male', 'Embarked_C', 'Embarked_Q', 'Embarked_S']\n",
    "X = train_data[features]\n",
    "y = train_data['Survived']\n",
    "\n",
    "# Split the data into training and validation sets\n",
    "X_train, X_val, y_train, y_val = train_test_split(X, y, test_size=0.2, random_state=42)\n",
    "\n",
    "# Train a Random Forest model\n",
    "model = RandomForestClassifier(n_estimators=100, random_state=42)\n",
    "model.fit(X_train, y_train)\n",
    "y_pred = model.predict(X_val)\n",
    "print(f'Validation Accuracy: {accuracy_score(y_val, y_pred)}')\n",
    "\n",
    "# Preprocess the test data in the same way as the training data\n",
    "test_data['Age'] = test_data['Age'].fillna(test_data['Age'].median())\n",
    "test_data['Fare'] = test_data['Fare'].fillna(test_data['Fare'].median())\n",
    "test_data = test_data.drop(columns=['Cabin'])\n",
    "test_data = pd.get_dummies(test_data, columns=['Sex', 'Embarked'])\n",
    "\n",
    "# Ensure all required columns are present in the test set\n",
    "missing_cols = set(features) - set(test_data.columns)\n",
    "for col in missing_cols:\n",
    "    test_data[col] = 0\n",
    "test_data = test_data[features]\n",
    "\n",
    "# Make predictions on the test data\n",
    "test_predictions = model.predict(test_data)\n",
    "\n",
    "# Create a submission DataFrame and save it to a CSV file\n",
    "submission = pd.DataFrame({\n",
    "    'PassengerId': test_passenger_ids,\n",
    "    'Survived': test_predictions\n",
    "})\n",
    "submission.to_csv('/kaggle/working/submission.csv', index=False)"
   ]
  }
 ],
 "metadata": {
  "kaggle": {
   "accelerator": "none",
   "dataSources": [
    {
     "databundleVersionId": 26502,
     "sourceId": 3136,
     "sourceType": "competition"
    }
   ],
   "dockerImageVersionId": 30732,
   "isGpuEnabled": false,
   "isInternetEnabled": false,
   "language": "python",
   "sourceType": "notebook"
  },
  "kernelspec": {
   "display_name": "Python 3",
   "language": "python",
   "name": "python3"
  },
  "language_info": {
   "codemirror_mode": {
    "name": "ipython",
    "version": 3
   },
   "file_extension": ".py",
   "mimetype": "text/x-python",
   "name": "python",
   "nbconvert_exporter": "python",
   "pygments_lexer": "ipython3",
   "version": "3.10.13"
  },
  "papermill": {
   "default_parameters": {},
   "duration": 6.99675,
   "end_time": "2024-07-04T19:36:33.600353",
   "environment_variables": {},
   "exception": null,
   "input_path": "__notebook__.ipynb",
   "output_path": "__notebook__.ipynb",
   "parameters": {},
   "start_time": "2024-07-04T19:36:26.603603",
   "version": "2.5.0"
  }
 },
 "nbformat": 4,
 "nbformat_minor": 5
}
